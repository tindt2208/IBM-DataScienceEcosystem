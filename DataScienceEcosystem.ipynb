{
  "nbformat": 4,
  "nbformat_minor": 0,
  "metadata": {
    "colab": {
      "provenance": []
    },
    "kernelspec": {
      "name": "python3",
      "display_name": "Python 3"
    },
    "language_info": {
      "name": "python"
    }
  },
  "cells": [
    {
      "cell_type": "markdown",
      "source": [
        "<h1>Data Science Tools and Ecosystem</h1>"
      ],
      "metadata": {
        "id": "NMyxpvRYlf1U"
      }
    },
    {
      "cell_type": "markdown",
      "source": [
        "In this notebook, Data Science Tools and Ecosystem are summarized.\n",
        "\n",
        "\n",
        "*   List popular languages that Data Scientists use.\n",
        "\n",
        "*   List commonly used libraries used by Data Scientists.\n",
        "\n",
        "* Comment on Data Science tools.\n",
        "\n",
        "\n"
      ],
      "metadata": {
        "id": "YTvaYOfemH-D"
      }
    },
    {
      "cell_type": "markdown",
      "source": [
        "Some of the popular languages that Data Scientists use are:\n",
        "\n",
        "\n",
        "1.   Python.\n",
        "2.   R.\n",
        "3.   SQL.\n",
        "\n"
      ],
      "metadata": {
        "id": "Hb8ASgQamRJD"
      }
    },
    {
      "cell_type": "markdown",
      "source": [
        "Some of the commonly used libraries used by Data Scientists include:\n",
        "1. TensorFlow.\n",
        "\n",
        "1.   NumPy.\n",
        "2. SciPy.\n",
        "3. Pandas.\n",
        "4. Matplotlib.\n",
        "5. Keras.\n",
        "6. SciKit-Learn.\n",
        "7. PyTorch.\n",
        "\n",
        "\n"
      ],
      "metadata": {
        "id": "h1LALXM_mmQm"
      }
    },
    {
      "cell_type": "markdown",
      "source": [
        "<table style=\\\"width:100%\\\">\n",
        "      <tr>\n",
        "        <th>Data Science Tools</th>\n",
        "        <th></th>\n",
        "        <th></th>\n",
        "      </tr>\n",
        "      <tr>\n",
        "        <td>SAS. It is one of those data science tools which are specifically designed for statistical operation<td>\n",
        "        <td></td>\n",
        "        <td></td>\n",
        "      </tr>\n",
        "      <tr>\n",
        "        <td>Apache Spark</td>\n",
        "        <td></td>\n",
        "        <td></td>\n",
        "      </tr>\n",
        "      <tr>\n",
        "        <td>BigML</td>\n",
        "        <td></td>\n",
        "        <td></td>\n",
        "      </tr></table>"
      ],
      "metadata": {
        "id": "VNg-9Ep_m4k-"
      }
    },
    {
      "cell_type": "markdown",
      "source": [
        "<h3>Below are a few examples of evaluating arithmetic expressions in Python.\n",
        "</h3>"
      ],
      "metadata": {
        "id": "X2s4LWoTn1oB"
      }
    },
    {
      "cell_type": "code",
      "source": [
        "# This a simple arithmetic expression to mutiply then add integers.\n",
        "(3*4)+5"
      ],
      "metadata": {
        "colab": {
          "base_uri": "https://localhost:8080/"
        },
        "id": "IgCOux1DmMOs",
        "outputId": "3b5d2551-3d40-45e8-c0d8-915cc6bdafb2"
      },
      "execution_count": 1,
      "outputs": [
        {
          "output_type": "execute_result",
          "data": {
            "text/plain": [
              "17"
            ]
          },
          "metadata": {},
          "execution_count": 1
        }
      ]
    },
    {
      "cell_type": "code",
      "source": [
        "#This will convert 200 minutes to hours by diving by 60\n",
        "200/60"
      ],
      "metadata": {
        "colab": {
          "base_uri": "https://localhost:8080/"
        },
        "id": "4ozAxai1oOxI",
        "outputId": "482a8a30-06a6-4495-d312-bd588334fb72"
      },
      "execution_count": 2,
      "outputs": [
        {
          "output_type": "execute_result",
          "data": {
            "text/plain": [
              "3.3333333333333335"
            ]
          },
          "metadata": {},
          "execution_count": 2
        }
      ]
    },
    {
      "cell_type": "markdown",
      "source": [
        "Below the introduction cell created in Exercise 3, insert a new markdown cell to list the objectives that this notebook covered (i.e. some of the key takeaways from the course). In this new cell start with an introductory line titled: Objectives: in bold font. Then using an unordered list (bullets) indicate 3 to 5 items covered in this notebook, such as List popular languages for Data Science.\n"
      ],
      "metadata": {
        "id": "X7lcdJjcok-u"
      }
    },
    {
      "cell_type": "markdown",
      "source": [
        "<h2>Author</h2>\n",
        "Tin Do"
      ],
      "metadata": {
        "id": "iNBqans9poPK"
      }
    }
  ]
}